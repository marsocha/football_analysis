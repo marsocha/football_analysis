{
 "cells": [
  {
   "cell_type": "code",
   "execution_count": 18,
   "metadata": {},
   "outputs": [
    {
     "name": "stdout",
     "output_type": "stream",
     "text": [
      "Requirement already satisfied: ultralytics in /home/marcin/foot_anal/lib/python3.10/site-packages (8.2.7)\n",
      "Requirement already satisfied: requests>=2.23.0 in /home/marcin/foot_anal/lib/python3.10/site-packages (from ultralytics) (2.31.0)\n",
      "Requirement already satisfied: tqdm>=4.64.0 in /home/marcin/foot_anal/lib/python3.10/site-packages (from ultralytics) (4.66.4)\n",
      "Requirement already satisfied: psutil in /home/marcin/foot_anal/lib/python3.10/site-packages (from ultralytics) (5.9.8)\n",
      "Requirement already satisfied: scipy>=1.4.1 in /home/marcin/foot_anal/lib/python3.10/site-packages (from ultralytics) (1.13.0)\n",
      "Requirement already satisfied: pyyaml>=5.3.1 in /home/marcin/foot_anal/lib/python3.10/site-packages (from ultralytics) (6.0.1)\n",
      "Requirement already satisfied: pandas>=1.1.4 in /home/marcin/foot_anal/lib/python3.10/site-packages (from ultralytics) (2.2.2)\n",
      "Requirement already satisfied: pillow>=7.1.2 in /home/marcin/foot_anal/lib/python3.10/site-packages (from ultralytics) (10.3.0)\n",
      "Requirement already satisfied: py-cpuinfo in /home/marcin/foot_anal/lib/python3.10/site-packages (from ultralytics) (9.0.0)\n",
      "Requirement already satisfied: opencv-python>=4.6.0 in /home/marcin/foot_anal/lib/python3.10/site-packages (from ultralytics) (4.9.0.80)\n",
      "Requirement already satisfied: matplotlib>=3.3.0 in /home/marcin/foot_anal/lib/python3.10/site-packages (from ultralytics) (3.8.4)\n",
      "Requirement already satisfied: torch>=1.8.0 in /home/marcin/foot_anal/lib/python3.10/site-packages (from ultralytics) (2.3.0)\n",
      "Requirement already satisfied: thop>=0.1.1 in /home/marcin/foot_anal/lib/python3.10/site-packages (from ultralytics) (0.1.1.post2209072238)\n",
      "Requirement already satisfied: torchvision>=0.9.0 in /home/marcin/foot_anal/lib/python3.10/site-packages (from ultralytics) (0.18.0)\n",
      "Requirement already satisfied: seaborn>=0.11.0 in /home/marcin/foot_anal/lib/python3.10/site-packages (from ultralytics) (0.13.2)\n",
      "Requirement already satisfied: cycler>=0.10 in /home/marcin/foot_anal/lib/python3.10/site-packages (from matplotlib>=3.3.0->ultralytics) (0.10.0)\n",
      "Requirement already satisfied: python-dateutil>=2.7 in /home/marcin/foot_anal/lib/python3.10/site-packages (from matplotlib>=3.3.0->ultralytics) (2.9.0.post0)\n",
      "Requirement already satisfied: numpy>=1.21 in /home/marcin/foot_anal/lib/python3.10/site-packages (from matplotlib>=3.3.0->ultralytics) (1.26.4)\n",
      "Requirement already satisfied: fonttools>=4.22.0 in /home/marcin/foot_anal/lib/python3.10/site-packages (from matplotlib>=3.3.0->ultralytics) (4.51.0)\n",
      "Requirement already satisfied: pyparsing>=2.3.1 in /home/marcin/foot_anal/lib/python3.10/site-packages (from matplotlib>=3.3.0->ultralytics) (3.1.2)\n",
      "Requirement already satisfied: kiwisolver>=1.3.1 in /home/marcin/foot_anal/lib/python3.10/site-packages (from matplotlib>=3.3.0->ultralytics) (1.4.5)\n",
      "Requirement already satisfied: packaging>=20.0 in /home/marcin/foot_anal/lib/python3.10/site-packages (from matplotlib>=3.3.0->ultralytics) (24.0)\n",
      "Requirement already satisfied: contourpy>=1.0.1 in /home/marcin/foot_anal/lib/python3.10/site-packages (from matplotlib>=3.3.0->ultralytics) (1.2.1)\n",
      "Requirement already satisfied: tzdata>=2022.7 in /home/marcin/foot_anal/lib/python3.10/site-packages (from pandas>=1.1.4->ultralytics) (2024.1)\n",
      "Requirement already satisfied: pytz>=2020.1 in /home/marcin/foot_anal/lib/python3.10/site-packages (from pandas>=1.1.4->ultralytics) (2024.1)\n",
      "Requirement already satisfied: certifi>=2017.4.17 in /home/marcin/foot_anal/lib/python3.10/site-packages (from requests>=2.23.0->ultralytics) (2023.7.22)\n",
      "Requirement already satisfied: charset-normalizer<4,>=2 in /home/marcin/foot_anal/lib/python3.10/site-packages (from requests>=2.23.0->ultralytics) (3.3.2)\n",
      "Requirement already satisfied: urllib3<3,>=1.21.1 in /home/marcin/foot_anal/lib/python3.10/site-packages (from requests>=2.23.0->ultralytics) (2.2.1)\n",
      "Requirement already satisfied: idna<4,>=2.5 in /home/marcin/foot_anal/lib/python3.10/site-packages (from requests>=2.23.0->ultralytics) (2.10)\n",
      "Requirement already satisfied: nvidia-cuda-runtime-cu12==12.1.105 in /home/marcin/foot_anal/lib/python3.10/site-packages (from torch>=1.8.0->ultralytics) (12.1.105)\n",
      "Requirement already satisfied: nvidia-curand-cu12==10.3.2.106 in /home/marcin/foot_anal/lib/python3.10/site-packages (from torch>=1.8.0->ultralytics) (10.3.2.106)\n",
      "Requirement already satisfied: networkx in /home/marcin/foot_anal/lib/python3.10/site-packages (from torch>=1.8.0->ultralytics) (3.3)\n",
      "Requirement already satisfied: nvidia-cuda-nvrtc-cu12==12.1.105 in /home/marcin/foot_anal/lib/python3.10/site-packages (from torch>=1.8.0->ultralytics) (12.1.105)\n",
      "Requirement already satisfied: jinja2 in /home/marcin/foot_anal/lib/python3.10/site-packages (from torch>=1.8.0->ultralytics) (3.1.3)\n",
      "Requirement already satisfied: nvidia-cudnn-cu12==8.9.2.26 in /home/marcin/foot_anal/lib/python3.10/site-packages (from torch>=1.8.0->ultralytics) (8.9.2.26)\n",
      "Requirement already satisfied: nvidia-cusolver-cu12==11.4.5.107 in /home/marcin/foot_anal/lib/python3.10/site-packages (from torch>=1.8.0->ultralytics) (11.4.5.107)\n",
      "Requirement already satisfied: nvidia-nvtx-cu12==12.1.105 in /home/marcin/foot_anal/lib/python3.10/site-packages (from torch>=1.8.0->ultralytics) (12.1.105)\n",
      "Requirement already satisfied: nvidia-cuda-cupti-cu12==12.1.105 in /home/marcin/foot_anal/lib/python3.10/site-packages (from torch>=1.8.0->ultralytics) (12.1.105)\n",
      "Requirement already satisfied: nvidia-cusparse-cu12==12.1.0.106 in /home/marcin/foot_anal/lib/python3.10/site-packages (from torch>=1.8.0->ultralytics) (12.1.0.106)\n",
      "Requirement already satisfied: nvidia-cublas-cu12==12.1.3.1 in /home/marcin/foot_anal/lib/python3.10/site-packages (from torch>=1.8.0->ultralytics) (12.1.3.1)\n",
      "Requirement already satisfied: nvidia-nccl-cu12==2.20.5 in /home/marcin/foot_anal/lib/python3.10/site-packages (from torch>=1.8.0->ultralytics) (2.20.5)\n",
      "Requirement already satisfied: fsspec in /home/marcin/foot_anal/lib/python3.10/site-packages (from torch>=1.8.0->ultralytics) (2024.3.1)\n",
      "Requirement already satisfied: sympy in /home/marcin/foot_anal/lib/python3.10/site-packages (from torch>=1.8.0->ultralytics) (1.12)\n",
      "Requirement already satisfied: triton==2.3.0 in /home/marcin/foot_anal/lib/python3.10/site-packages (from torch>=1.8.0->ultralytics) (2.3.0)\n",
      "Requirement already satisfied: typing-extensions>=4.8.0 in /home/marcin/foot_anal/lib/python3.10/site-packages (from torch>=1.8.0->ultralytics) (4.11.0)\n",
      "Requirement already satisfied: nvidia-cufft-cu12==11.0.2.54 in /home/marcin/foot_anal/lib/python3.10/site-packages (from torch>=1.8.0->ultralytics) (11.0.2.54)\n",
      "Requirement already satisfied: filelock in /home/marcin/foot_anal/lib/python3.10/site-packages (from torch>=1.8.0->ultralytics) (3.14.0)\n",
      "Requirement already satisfied: nvidia-nvjitlink-cu12 in /home/marcin/foot_anal/lib/python3.10/site-packages (from nvidia-cusolver-cu12==11.4.5.107->torch>=1.8.0->ultralytics) (12.4.127)\n",
      "Requirement already satisfied: six in /home/marcin/foot_anal/lib/python3.10/site-packages (from cycler>=0.10->matplotlib>=3.3.0->ultralytics) (1.16.0)\n",
      "Requirement already satisfied: MarkupSafe>=2.0 in /home/marcin/foot_anal/lib/python3.10/site-packages (from jinja2->torch>=1.8.0->ultralytics) (2.1.5)\n",
      "Requirement already satisfied: mpmath>=0.19 in /home/marcin/foot_anal/lib/python3.10/site-packages (from sympy->torch>=1.8.0->ultralytics) (1.3.0)\n",
      "Requirement already satisfied: roboflow in /home/marcin/foot_anal/lib/python3.10/site-packages (1.1.28)\n",
      "Requirement already satisfied: Pillow>=7.1.2 in /home/marcin/foot_anal/lib/python3.10/site-packages (from roboflow) (10.3.0)\n",
      "Requirement already satisfied: python-dateutil in /home/marcin/foot_anal/lib/python3.10/site-packages (from roboflow) (2.9.0.post0)\n",
      "Requirement already satisfied: urllib3>=1.26.6 in /home/marcin/foot_anal/lib/python3.10/site-packages (from roboflow) (2.2.1)\n",
      "Requirement already satisfied: certifi==2023.7.22 in /home/marcin/foot_anal/lib/python3.10/site-packages (from roboflow) (2023.7.22)\n",
      "Requirement already satisfied: requests-toolbelt in /home/marcin/foot_anal/lib/python3.10/site-packages (from roboflow) (1.0.0)\n",
      "Requirement already satisfied: python-magic in /home/marcin/foot_anal/lib/python3.10/site-packages (from roboflow) (0.4.27)\n",
      "Requirement already satisfied: kiwisolver>=1.3.1 in /home/marcin/foot_anal/lib/python3.10/site-packages (from roboflow) (1.4.5)\n",
      "Requirement already satisfied: tqdm>=4.41.0 in /home/marcin/foot_anal/lib/python3.10/site-packages (from roboflow) (4.66.4)\n",
      "Requirement already satisfied: python-dotenv in /home/marcin/foot_anal/lib/python3.10/site-packages (from roboflow) (1.0.1)\n",
      "Requirement already satisfied: six in /home/marcin/foot_anal/lib/python3.10/site-packages (from roboflow) (1.16.0)\n",
      "Requirement already satisfied: matplotlib in /home/marcin/foot_anal/lib/python3.10/site-packages (from roboflow) (3.8.4)\n",
      "Requirement already satisfied: idna==2.10 in /home/marcin/foot_anal/lib/python3.10/site-packages (from roboflow) (2.10)\n",
      "Requirement already satisfied: opencv-python-headless==4.8.0.74 in /home/marcin/foot_anal/lib/python3.10/site-packages (from roboflow) (4.8.0.74)\n",
      "Requirement already satisfied: numpy>=1.18.5 in /home/marcin/foot_anal/lib/python3.10/site-packages (from roboflow) (1.26.4)\n",
      "Requirement already satisfied: requests in /home/marcin/foot_anal/lib/python3.10/site-packages (from roboflow) (2.31.0)\n",
      "Requirement already satisfied: PyYAML>=5.3.1 in /home/marcin/foot_anal/lib/python3.10/site-packages (from roboflow) (6.0.1)\n",
      "Requirement already satisfied: chardet==4.0.0 in /home/marcin/foot_anal/lib/python3.10/site-packages (from roboflow) (4.0.0)\n",
      "Requirement already satisfied: cycler==0.10.0 in /home/marcin/foot_anal/lib/python3.10/site-packages (from roboflow) (0.10.0)\n",
      "Requirement already satisfied: contourpy>=1.0.1 in /home/marcin/foot_anal/lib/python3.10/site-packages (from matplotlib->roboflow) (1.2.1)\n",
      "Requirement already satisfied: pyparsing>=2.3.1 in /home/marcin/foot_anal/lib/python3.10/site-packages (from matplotlib->roboflow) (3.1.2)\n",
      "Requirement already satisfied: packaging>=20.0 in /home/marcin/foot_anal/lib/python3.10/site-packages (from matplotlib->roboflow) (24.0)\n",
      "Requirement already satisfied: fonttools>=4.22.0 in /home/marcin/foot_anal/lib/python3.10/site-packages (from matplotlib->roboflow) (4.51.0)\n",
      "Requirement already satisfied: charset-normalizer<4,>=2 in /home/marcin/foot_anal/lib/python3.10/site-packages (from requests->roboflow) (3.3.2)\n"
     ]
    }
   ],
   "source": [
    "!pip install ultralytics\n",
    "!pip install roboflow"
   ]
  },
  {
   "cell_type": "markdown",
   "metadata": {},
   "source": [
    "# Get Dataset"
   ]
  },
  {
   "cell_type": "code",
   "execution_count": 32,
   "metadata": {},
   "outputs": [
    {
     "name": "stdout",
     "output_type": "stream",
     "text": [
      "loading Roboflow workspace...\n",
      "loading Roboflow project...\n"
     ]
    }
   ],
   "source": [
    "from roboflow import Roboflow\n",
    "rf = Roboflow(api_key=\"DLWQFewJisk15bqJtNUm\")\n",
    "project = rf.workspace(\"roboflow-jvuqo\").project(\"football-players-detection-3zvbc\")\n",
    "version = project.version(1)\n",
    "dataset = version.download(\"yolov5\")\n"
   ]
  },
  {
   "cell_type": "code",
   "execution_count": 33,
   "metadata": {},
   "outputs": [
    {
     "data": {
      "text/plain": [
       "'/home/marcin/foot_anal/training/football-players-detection-1'"
      ]
     },
     "execution_count": 33,
     "metadata": {},
     "output_type": "execute_result"
    }
   ],
   "source": [
    "dataset.location"
   ]
  },
  {
   "cell_type": "code",
   "execution_count": 24,
   "metadata": {},
   "outputs": [
    {
     "ename": "FileNotFoundError",
     "evalue": "[Errno 2] No such file or directory: 'football-players-detection-1/train'",
     "output_type": "error",
     "traceback": [
      "\u001b[0;31m---------------------------------------------------------------------------\u001b[0m",
      "\u001b[0;31mFileNotFoundError\u001b[0m                         Traceback (most recent call last)",
      "File \u001b[0;32m/usr/lib/python3.10/shutil.py:816\u001b[0m, in \u001b[0;36mmove\u001b[0;34m(src, dst, copy_function)\u001b[0m\n\u001b[1;32m    815\u001b[0m \u001b[38;5;28;01mtry\u001b[39;00m:\n\u001b[0;32m--> 816\u001b[0m     \u001b[43mos\u001b[49m\u001b[38;5;241;43m.\u001b[39;49m\u001b[43mrename\u001b[49m\u001b[43m(\u001b[49m\u001b[43msrc\u001b[49m\u001b[43m,\u001b[49m\u001b[43m \u001b[49m\u001b[43mreal_dst\u001b[49m\u001b[43m)\u001b[49m\n\u001b[1;32m    817\u001b[0m \u001b[38;5;28;01mexcept\u001b[39;00m \u001b[38;5;167;01mOSError\u001b[39;00m:\n",
      "\u001b[0;31mFileNotFoundError\u001b[0m: [Errno 2] No such file or directory: 'football-players-detection-1/train' -> 'football-players-detection-1/football-players-detection-1/train/train'",
      "\nDuring handling of the above exception, another exception occurred:\n",
      "\u001b[0;31mFileNotFoundError\u001b[0m                         Traceback (most recent call last)",
      "Cell \u001b[0;32mIn[24], line 3\u001b[0m\n\u001b[1;32m      1\u001b[0m \u001b[38;5;28;01mimport\u001b[39;00m \u001b[38;5;21;01mshutil\u001b[39;00m\n\u001b[0;32m----> 3\u001b[0m \u001b[43mshutil\u001b[49m\u001b[38;5;241;43m.\u001b[39;49m\u001b[43mmove\u001b[49m\u001b[43m(\u001b[49m\u001b[38;5;124;43m'\u001b[39;49m\u001b[38;5;124;43mfootball-players-detection-1/train\u001b[39;49m\u001b[38;5;124;43m'\u001b[39;49m\u001b[43m,\u001b[49m\n\u001b[1;32m      4\u001b[0m \u001b[43m            \u001b[49m\u001b[38;5;124;43m'\u001b[39;49m\u001b[38;5;124;43mfootball-players-detection-1/football-players-detection-1/train\u001b[39;49m\u001b[38;5;124;43m'\u001b[39;49m\u001b[43m)\u001b[49m\n\u001b[1;32m      6\u001b[0m shutil\u001b[38;5;241m.\u001b[39mmove(\u001b[38;5;124m'\u001b[39m\u001b[38;5;124mfootball-players-detection-1/test\u001b[39m\u001b[38;5;124m'\u001b[39m,\n\u001b[1;32m      7\u001b[0m             \u001b[38;5;124m'\u001b[39m\u001b[38;5;124mfootball-players-detection-1/football-players-detection-1/test\u001b[39m\u001b[38;5;124m'\u001b[39m)\n\u001b[1;32m      9\u001b[0m shutil\u001b[38;5;241m.\u001b[39mmove(\u001b[38;5;124m'\u001b[39m\u001b[38;5;124mfootball-players-detection-1/valid\u001b[39m\u001b[38;5;124m'\u001b[39m,\n\u001b[1;32m     10\u001b[0m             \u001b[38;5;124m'\u001b[39m\u001b[38;5;124mfootball-players-detection-1/football-players-detection-1/valid\u001b[39m\u001b[38;5;124m'\u001b[39m)\n",
      "File \u001b[0;32m/usr/lib/python3.10/shutil.py:836\u001b[0m, in \u001b[0;36mmove\u001b[0;34m(src, dst, copy_function)\u001b[0m\n\u001b[1;32m    834\u001b[0m         rmtree(src)\n\u001b[1;32m    835\u001b[0m     \u001b[38;5;28;01melse\u001b[39;00m:\n\u001b[0;32m--> 836\u001b[0m         \u001b[43mcopy_function\u001b[49m\u001b[43m(\u001b[49m\u001b[43msrc\u001b[49m\u001b[43m,\u001b[49m\u001b[43m \u001b[49m\u001b[43mreal_dst\u001b[49m\u001b[43m)\u001b[49m\n\u001b[1;32m    837\u001b[0m         os\u001b[38;5;241m.\u001b[39munlink(src)\n\u001b[1;32m    838\u001b[0m \u001b[38;5;28;01mreturn\u001b[39;00m real_dst\n",
      "File \u001b[0;32m/usr/lib/python3.10/shutil.py:434\u001b[0m, in \u001b[0;36mcopy2\u001b[0;34m(src, dst, follow_symlinks)\u001b[0m\n\u001b[1;32m    432\u001b[0m \u001b[38;5;28;01mif\u001b[39;00m os\u001b[38;5;241m.\u001b[39mpath\u001b[38;5;241m.\u001b[39misdir(dst):\n\u001b[1;32m    433\u001b[0m     dst \u001b[38;5;241m=\u001b[39m os\u001b[38;5;241m.\u001b[39mpath\u001b[38;5;241m.\u001b[39mjoin(dst, os\u001b[38;5;241m.\u001b[39mpath\u001b[38;5;241m.\u001b[39mbasename(src))\n\u001b[0;32m--> 434\u001b[0m \u001b[43mcopyfile\u001b[49m\u001b[43m(\u001b[49m\u001b[43msrc\u001b[49m\u001b[43m,\u001b[49m\u001b[43m \u001b[49m\u001b[43mdst\u001b[49m\u001b[43m,\u001b[49m\u001b[43m \u001b[49m\u001b[43mfollow_symlinks\u001b[49m\u001b[38;5;241;43m=\u001b[39;49m\u001b[43mfollow_symlinks\u001b[49m\u001b[43m)\u001b[49m\n\u001b[1;32m    435\u001b[0m copystat(src, dst, follow_symlinks\u001b[38;5;241m=\u001b[39mfollow_symlinks)\n\u001b[1;32m    436\u001b[0m \u001b[38;5;28;01mreturn\u001b[39;00m dst\n",
      "File \u001b[0;32m/usr/lib/python3.10/shutil.py:254\u001b[0m, in \u001b[0;36mcopyfile\u001b[0;34m(src, dst, follow_symlinks)\u001b[0m\n\u001b[1;32m    252\u001b[0m     os\u001b[38;5;241m.\u001b[39msymlink(os\u001b[38;5;241m.\u001b[39mreadlink(src), dst)\n\u001b[1;32m    253\u001b[0m \u001b[38;5;28;01melse\u001b[39;00m:\n\u001b[0;32m--> 254\u001b[0m     \u001b[38;5;28;01mwith\u001b[39;00m \u001b[38;5;28;43mopen\u001b[39;49m\u001b[43m(\u001b[49m\u001b[43msrc\u001b[49m\u001b[43m,\u001b[49m\u001b[43m \u001b[49m\u001b[38;5;124;43m'\u001b[39;49m\u001b[38;5;124;43mrb\u001b[39;49m\u001b[38;5;124;43m'\u001b[39;49m\u001b[43m)\u001b[49m \u001b[38;5;28;01mas\u001b[39;00m fsrc:\n\u001b[1;32m    255\u001b[0m         \u001b[38;5;28;01mtry\u001b[39;00m:\n\u001b[1;32m    256\u001b[0m             \u001b[38;5;28;01mwith\u001b[39;00m \u001b[38;5;28mopen\u001b[39m(dst, \u001b[38;5;124m'\u001b[39m\u001b[38;5;124mwb\u001b[39m\u001b[38;5;124m'\u001b[39m) \u001b[38;5;28;01mas\u001b[39;00m fdst:\n\u001b[1;32m    257\u001b[0m                 \u001b[38;5;66;03m# macOS\u001b[39;00m\n",
      "\u001b[0;31mFileNotFoundError\u001b[0m: [Errno 2] No such file or directory: 'football-players-detection-1/train'"
     ]
    }
   ],
   "source": [
    "import shutil\n",
    "\n",
    "shutil.move('football-players-detection-1/train',\n",
    "            'football-players-detection-1/football-players-detection-1/train')\n",
    "\n",
    "shutil.move('football-players-detection-1/test',\n",
    "            'football-players-detection-1/football-players-detection-1/test')\n",
    "\n",
    "shutil.move('football-players-detection-1/valid',\n",
    "\n",
    "            'football-players-detection-1/football-players-detection-1/valid')"
   ]
  },
  {
   "cell_type": "code",
   "execution_count": 34,
   "metadata": {},
   "outputs": [
    {
     "data": {
      "text/plain": [
       "'/home/marcin/foot_anal/training/football-players-detection-1'"
      ]
     },
     "execution_count": 34,
     "metadata": {},
     "output_type": "execute_result"
    }
   ],
   "source": [
    "dataset.location"
   ]
  },
  {
   "cell_type": "markdown",
   "metadata": {},
   "source": [
    "# Training"
   ]
  },
  {
   "cell_type": "code",
   "execution_count": 36,
   "metadata": {},
   "outputs": [
    {
     "name": "stdout",
     "output_type": "stream",
     "text": [
      "PRO TIP 💡 Replace 'model=yolov5l.pt' with new 'model=yolov5lu.pt'.\n",
      "YOLOv5 'u' models are trained with https://github.com/ultralytics/ultralytics and feature improved performance vs standard YOLOv5 models trained with https://github.com/ultralytics/yolov5.\n",
      "\n",
      "Downloading https://github.com/ultralytics/assets/releases/download/v8.2.0/yolov5lu.pt to 'yolov5lu.pt'...\n",
      "100%|████████████████████████████████████████| 102M/102M [00:01<00:00, 85.6MB/s]\n",
      "New https://pypi.org/project/ultralytics/8.2.8 available 😃 Update with 'pip install -U ultralytics'\n",
      "Ultralytics YOLOv8.2.7 🚀 Python-3.10.12 torch-2.3.0+cu121 CUDA:0 (NVIDIA GeForce GTX 1070, 8192MiB)\n",
      "\u001b[34m\u001b[1mengine/trainer: \u001b[0mtask=detect, mode=train, model=yolov5l.pt, data=/home/marcin/foot_anal/training/football-players-detection-1/data.yaml, epochs=100, time=None, patience=100, batch=16, imgsz=640, save=True, save_period=-1, cache=False, device=None, workers=8, project=None, name=train5, exist_ok=False, pretrained=True, optimizer=auto, verbose=True, seed=0, deterministic=True, single_cls=False, rect=False, cos_lr=False, close_mosaic=10, resume=False, amp=True, fraction=1.0, profile=False, freeze=None, multi_scale=False, overlap_mask=True, mask_ratio=4, dropout=0.0, val=True, split=val, save_json=False, save_hybrid=False, conf=None, iou=0.7, max_det=300, half=False, dnn=False, plots=True, source=None, vid_stride=1, stream_buffer=False, visualize=False, augment=False, agnostic_nms=False, classes=None, retina_masks=False, embed=None, show=False, save_frames=False, save_txt=False, save_conf=False, save_crop=False, show_labels=True, show_conf=True, show_boxes=True, line_width=None, format=torchscript, keras=False, optimize=False, int8=False, dynamic=False, simplify=False, opset=None, workspace=4, nms=False, lr0=0.01, lrf=0.01, momentum=0.937, weight_decay=0.0005, warmup_epochs=3.0, warmup_momentum=0.8, warmup_bias_lr=0.1, box=7.5, cls=0.5, dfl=1.5, pose=12.0, kobj=1.0, label_smoothing=0.0, nbs=64, hsv_h=0.015, hsv_s=0.7, hsv_v=0.4, degrees=0.0, translate=0.1, scale=0.5, shear=0.0, perspective=0.0, flipud=0.0, fliplr=0.5, bgr=0.0, mosaic=1.0, mixup=0.0, copy_paste=0.0, auto_augment=randaugment, erasing=0.4, crop_fraction=1.0, cfg=None, tracker=botsort.yaml, save_dir=/home/marcin/runs/detect/train5\n",
      "Overriding model.yaml nc=80 with nc=4\n",
      "\n",
      "                   from  n    params  module                                       arguments                     \n",
      "  0                  -1  1      7040  ultralytics.nn.modules.conv.Conv             [3, 64, 6, 2, 2]              \n",
      "  1                  -1  1     73984  ultralytics.nn.modules.conv.Conv             [64, 128, 3, 2]               \n",
      "  2                  -1  3    156928  ultralytics.nn.modules.block.C3              [128, 128, 3]                 \n",
      "  3                  -1  1    295424  ultralytics.nn.modules.conv.Conv             [128, 256, 3, 2]              \n",
      "  4                  -1  6   1118208  ultralytics.nn.modules.block.C3              [256, 256, 6]                 \n",
      "  5                  -1  1   1180672  ultralytics.nn.modules.conv.Conv             [256, 512, 3, 2]              \n",
      "  6                  -1  9   6433792  ultralytics.nn.modules.block.C3              [512, 512, 9]                 \n",
      "  7                  -1  1   4720640  ultralytics.nn.modules.conv.Conv             [512, 1024, 3, 2]             \n",
      "  8                  -1  3   9971712  ultralytics.nn.modules.block.C3              [1024, 1024, 3]               \n",
      "  9                  -1  1   2624512  ultralytics.nn.modules.block.SPPF            [1024, 1024, 5]               \n",
      " 10                  -1  1    525312  ultralytics.nn.modules.conv.Conv             [1024, 512, 1, 1]             \n",
      " 11                  -1  1         0  torch.nn.modules.upsampling.Upsample         [None, 2, 'nearest']          \n",
      " 12             [-1, 6]  1         0  ultralytics.nn.modules.conv.Concat           [1]                           \n",
      " 13                  -1  3   2757632  ultralytics.nn.modules.block.C3              [1024, 512, 3, False]         \n",
      " 14                  -1  1    131584  ultralytics.nn.modules.conv.Conv             [512, 256, 1, 1]              \n",
      " 15                  -1  1         0  torch.nn.modules.upsampling.Upsample         [None, 2, 'nearest']          \n",
      " 16             [-1, 4]  1         0  ultralytics.nn.modules.conv.Concat           [1]                           \n",
      " 17                  -1  3    690688  ultralytics.nn.modules.block.C3              [512, 256, 3, False]          \n",
      " 18                  -1  1    590336  ultralytics.nn.modules.conv.Conv             [256, 256, 3, 2]              \n",
      " 19            [-1, 14]  1         0  ultralytics.nn.modules.conv.Concat           [1]                           \n",
      " 20                  -1  3   2495488  ultralytics.nn.modules.block.C3              [512, 512, 3, False]          \n",
      " 21                  -1  1   2360320  ultralytics.nn.modules.conv.Conv             [512, 512, 3, 2]              \n",
      " 22            [-1, 10]  1         0  ultralytics.nn.modules.conv.Concat           [1]                           \n",
      " 23                  -1  3   9971712  ultralytics.nn.modules.block.C3              [1024, 1024, 3, False]        \n",
      " 24        [17, 20, 23]  1   7060444  ultralytics.nn.modules.head.Detect           [4, [256, 512, 1024]]         \n",
      "YOLOv5l summary: 416 layers, 53166428 parameters, 53166412 gradients, 135.3 GFLOPs\n",
      "\n",
      "Transferred 685/691 items from pretrained weights\n",
      "Freezing layer 'model.24.dfl.conv.weight'\n",
      "\u001b[34m\u001b[1mAMP: \u001b[0mrunning Automatic Mixed Precision (AMP) checks with YOLOv8n...\n",
      "\u001b[34m\u001b[1mAMP: \u001b[0mchecks passed ✅\n",
      "\u001b[34m\u001b[1mtrain: \u001b[0mScanning /home/marcin/foot_anal/training/football-players-detection-1/foo\u001b[0m\n",
      "\u001b[34m\u001b[1mval: \u001b[0mScanning /home/marcin/foot_anal/training/football-players-detection-1/footb\u001b[0m\n",
      "Plotting labels to /home/marcin/runs/detect/train5/labels.jpg... \n",
      "\u001b[34m\u001b[1moptimizer:\u001b[0m 'optimizer=auto' found, ignoring 'lr0=0.01' and 'momentum=0.937' and determining best 'optimizer', 'lr0' and 'momentum' automatically... \n",
      "\u001b[34m\u001b[1moptimizer:\u001b[0m AdamW(lr=0.00125, momentum=0.9) with parameter groups 113 weight(decay=0.0), 120 weight(decay=0.0005), 119 bias(decay=0.0)\n",
      "Image sizes 640 train, 640 val\n",
      "Using 6 dataloader workers\n",
      "Logging results to \u001b[1m/home/marcin/runs/detect/train5\u001b[0m\n",
      "Starting training for 100 epochs...\n",
      "\n",
      "      Epoch    GPU_mem   box_loss   cls_loss   dfl_loss  Instances       Size\n",
      "  0%|          | 0/39 [00:00<?, ?it/s]/home/marcin/foot_anal/lib/python3.10/site-packages/torch/nn/modules/conv.py:456: UserWarning: Plan failed with an OutOfMemoryError: CUDA out of memory. Tried to allocate 122.00 MiB. GPU  (Triggered internally at ../aten/src/ATen/native/cudnn/Conv_v8.cpp:924.)\n",
      "  return F.conv2d(input, weight, bias, self.stride,\n",
      "/home/marcin/foot_anal/lib/python3.10/site-packages/torch/nn/modules/conv.py:456: UserWarning: Plan failed with an OutOfMemoryError: CUDA out of memory. Tried to allocate 60.00 MiB. GPU  (Triggered internally at ../aten/src/ATen/native/cudnn/Conv_v8.cpp:924.)\n",
      "  return F.conv2d(input, weight, bias, self.stride,\n",
      "/home/marcin/foot_anal/lib/python3.10/site-packages/torch/nn/modules/conv.py:456: UserWarning: Plan failed with an OutOfMemoryError: CUDA out of memory. Tried to allocate 340.00 MiB. GPU  (Triggered internally at ../aten/src/ATen/native/cudnn/Conv_v8.cpp:924.)\n",
      "  return F.conv2d(input, weight, bias, self.stride,\n",
      "  0%|          | 0/39 [00:00<?, ?it/s]\n",
      "Traceback (most recent call last):\n",
      "  File \"/home/marcin/foot_anal/bin/yolo\", line 8, in <module>\n",
      "    sys.exit(entrypoint())\n",
      "  File \"/home/marcin/foot_anal/lib/python3.10/site-packages/ultralytics/cfg/__init__.py\", line 582, in entrypoint\n",
      "    getattr(model, mode)(**overrides)  # default args from model\n",
      "  File \"/home/marcin/foot_anal/lib/python3.10/site-packages/ultralytics/engine/model.py\", line 673, in train\n",
      "    self.trainer.train()\n",
      "  File \"/home/marcin/foot_anal/lib/python3.10/site-packages/ultralytics/engine/trainer.py\", line 199, in train\n",
      "    self._do_train(world_size)\n",
      "  File \"/home/marcin/foot_anal/lib/python3.10/site-packages/ultralytics/engine/trainer.py\", line 371, in _do_train\n",
      "    self.loss, self.loss_items = self.model(batch)\n",
      "  File \"/home/marcin/foot_anal/lib/python3.10/site-packages/torch/nn/modules/module.py\", line 1532, in _wrapped_call_impl\n",
      "    return self._call_impl(*args, **kwargs)\n",
      "  File \"/home/marcin/foot_anal/lib/python3.10/site-packages/torch/nn/modules/module.py\", line 1541, in _call_impl\n",
      "    return forward_call(*args, **kwargs)\n",
      "  File \"/home/marcin/foot_anal/lib/python3.10/site-packages/ultralytics/nn/tasks.py\", line 88, in forward\n",
      "    return self.loss(x, *args, **kwargs)\n",
      "  File \"/home/marcin/foot_anal/lib/python3.10/site-packages/ultralytics/nn/tasks.py\", line 266, in loss\n",
      "    preds = self.forward(batch[\"img\"]) if preds is None else preds\n",
      "  File \"/home/marcin/foot_anal/lib/python3.10/site-packages/ultralytics/nn/tasks.py\", line 89, in forward\n",
      "    return self.predict(x, *args, **kwargs)\n",
      "  File \"/home/marcin/foot_anal/lib/python3.10/site-packages/ultralytics/nn/tasks.py\", line 107, in predict\n",
      "    return self._predict_once(x, profile, visualize, embed)\n",
      "  File \"/home/marcin/foot_anal/lib/python3.10/site-packages/ultralytics/nn/tasks.py\", line 128, in _predict_once\n",
      "    x = m(x)  # run\n",
      "  File \"/home/marcin/foot_anal/lib/python3.10/site-packages/torch/nn/modules/module.py\", line 1532, in _wrapped_call_impl\n",
      "    return self._call_impl(*args, **kwargs)\n",
      "  File \"/home/marcin/foot_anal/lib/python3.10/site-packages/torch/nn/modules/module.py\", line 1541, in _call_impl\n",
      "    return forward_call(*args, **kwargs)\n",
      "  File \"/home/marcin/foot_anal/lib/python3.10/site-packages/ultralytics/nn/modules/block.py\", line 254, in forward\n",
      "    return self.cv3(torch.cat((self.m(self.cv1(x)), self.cv2(x)), 1))\n",
      "  File \"/home/marcin/foot_anal/lib/python3.10/site-packages/torch/nn/modules/module.py\", line 1532, in _wrapped_call_impl\n",
      "    return self._call_impl(*args, **kwargs)\n",
      "  File \"/home/marcin/foot_anal/lib/python3.10/site-packages/torch/nn/modules/module.py\", line 1541, in _call_impl\n",
      "    return forward_call(*args, **kwargs)\n",
      "  File \"/home/marcin/foot_anal/lib/python3.10/site-packages/torch/nn/modules/container.py\", line 217, in forward\n",
      "    input = module(input)\n",
      "  File \"/home/marcin/foot_anal/lib/python3.10/site-packages/torch/nn/modules/module.py\", line 1532, in _wrapped_call_impl\n",
      "    return self._call_impl(*args, **kwargs)\n",
      "  File \"/home/marcin/foot_anal/lib/python3.10/site-packages/torch/nn/modules/module.py\", line 1541, in _call_impl\n",
      "    return forward_call(*args, **kwargs)\n",
      "  File \"/home/marcin/foot_anal/lib/python3.10/site-packages/ultralytics/nn/modules/block.py\", line 340, in forward\n",
      "    return x + self.cv2(self.cv1(x)) if self.add else self.cv2(self.cv1(x))\n",
      "  File \"/home/marcin/foot_anal/lib/python3.10/site-packages/torch/nn/modules/module.py\", line 1532, in _wrapped_call_impl\n",
      "    return self._call_impl(*args, **kwargs)\n",
      "  File \"/home/marcin/foot_anal/lib/python3.10/site-packages/torch/nn/modules/module.py\", line 1541, in _call_impl\n",
      "    return forward_call(*args, **kwargs)\n",
      "  File \"/home/marcin/foot_anal/lib/python3.10/site-packages/ultralytics/nn/modules/conv.py\", line 50, in forward\n",
      "    return self.act(self.bn(self.conv(x)))\n",
      "  File \"/home/marcin/foot_anal/lib/python3.10/site-packages/torch/nn/modules/module.py\", line 1532, in _wrapped_call_impl\n",
      "    return self._call_impl(*args, **kwargs)\n",
      "  File \"/home/marcin/foot_anal/lib/python3.10/site-packages/torch/nn/modules/module.py\", line 1541, in _call_impl\n",
      "    return forward_call(*args, **kwargs)\n",
      "  File \"/home/marcin/foot_anal/lib/python3.10/site-packages/torch/nn/modules/activation.py\", line 396, in forward\n",
      "    return F.silu(input, inplace=self.inplace)\n",
      "  File \"/home/marcin/foot_anal/lib/python3.10/site-packages/torch/nn/functional.py\", line 2101, in silu\n",
      "    return torch._C._nn.silu_(input)\n",
      "torch.cuda.OutOfMemoryError: CUDA out of memory. Tried to allocate 14.00 MiB. GPU \n"
     ]
    }
   ],
   "source": [
    "!yolo task=detect mode=train model = yolov5l.pt data={dataset.location}/data.yaml epochs=100 imgsz=640"
   ]
  },
  {
   "cell_type": "code",
   "execution_count": null,
   "metadata": {},
   "outputs": [],
   "source": []
  }
 ],
 "metadata": {
  "kernelspec": {
   "display_name": "foot_anal",
   "language": "python",
   "name": "python3"
  },
  "language_info": {
   "codemirror_mode": {
    "name": "ipython",
    "version": 3
   },
   "file_extension": ".py",
   "mimetype": "text/x-python",
   "name": "python",
   "nbconvert_exporter": "python",
   "pygments_lexer": "ipython3",
   "version": "3.10.12"
  }
 },
 "nbformat": 4,
 "nbformat_minor": 2
}
